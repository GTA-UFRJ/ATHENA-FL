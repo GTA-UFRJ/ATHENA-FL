{
 "cells": [
  {
   "cell_type": "markdown",
   "id": "fdb5bf1f",
   "metadata": {},
   "source": [
    "# Import the packages"
   ]
  },
  {
   "cell_type": "code",
   "execution_count": 1,
   "id": "53333cd6",
   "metadata": {},
   "outputs": [],
   "source": [
    "import numpy as np\n",
    "import tensorflow as tf\n",
    "import matplotlib.pyplot as plt\n",
    "\n",
    "from pickle import load\n",
    "from matplotlib import pyplot\n",
    "from sklearn.model_selection import train_test_split\n",
    "\n",
    "\n",
    "from dataset_operations import *"
   ]
  },
  {
   "cell_type": "markdown",
   "id": "7ceaf9cd",
   "metadata": {},
   "source": [
    "# Load the data"
   ]
  },
  {
   "cell_type": "code",
   "execution_count": 2,
   "id": "0ac61e16",
   "metadata": {},
   "outputs": [],
   "source": [
    "X = read_dataset('../../../../datasets/CICDataset/processed_data/pre_processed_dataframes/features_1')\n",
    "Y = read_dataset('../../../../datasets/CICDataset/processed_data/pre_processed_dataframes/label_1_multiclass')"
   ]
  },
  {
   "cell_type": "markdown",
   "id": "67b15d50",
   "metadata": {},
   "source": [
    "# Adjust data"
   ]
  },
  {
   "cell_type": "code",
   "execution_count": 3,
   "id": "7a33e981",
   "metadata": {},
   "outputs": [],
   "source": [
    "X.drop('SimillarHTTP',axis=1,inplace=True)"
   ]
  },
  {
   "cell_type": "markdown",
   "id": "624c4e05",
   "metadata": {},
   "source": [
    "# Split dataset into train and test"
   ]
  },
  {
   "cell_type": "code",
   "execution_count": 4,
   "id": "d3f0cdc1",
   "metadata": {},
   "outputs": [],
   "source": [
    "x_train,x_test,y_train,y_test = train_test_split(X,Y,test_size=0.2)"
   ]
  },
  {
   "cell_type": "markdown",
   "id": "f147e125",
   "metadata": {},
   "source": [
    "# Verifying the number of classes"
   ]
  },
  {
   "cell_type": "code",
   "execution_count": 5,
   "id": "17718a92",
   "metadata": {},
   "outputs": [],
   "source": [
    "classes = len(Y.unique())"
   ]
  },
  {
   "cell_type": "markdown",
   "id": "34411070",
   "metadata": {},
   "source": [
    "# Creating model"
   ]
  },
  {
   "cell_type": "code",
   "execution_count": 6,
   "id": "d43e2547",
   "metadata": {},
   "outputs": [
    {
     "name": "stderr",
     "output_type": "stream",
     "text": [
      "2022-11-28 15:06:41.464972: E tensorflow/stream_executor/cuda/cuda_driver.cc:271] failed call to cuInit: CUDA_ERROR_NO_DEVICE: no CUDA-capable device is detected\n",
      "2022-11-28 15:06:41.465067: I tensorflow/stream_executor/cuda/cuda_diagnostics.cc:156] kernel driver does not appear to be running on this host (mangaratiba): /proc/driver/nvidia/version does not exist\n"
     ]
    }
   ],
   "source": [
    "#model = tf.keras.applications.NASNetLarge((None,29),classes=classes, weights=None)\n",
    "#model.compile(optimizer=tf.keras.optimizers.Adam(learning_rate=1e-4),\n",
    "#              loss='sparse_categorical_crossentropy',metrics=['accuracy'])\n",
    "\n",
    "model = tf.keras.models.Sequential([\n",
    "            tf.keras.layers.Dense(10, activation='relu', kernel_initializer='normal'),\n",
    "            tf.keras.layers.Dense(50, activation='relu', kernel_initializer='normal'),    \n",
    "            tf.keras.layers.Dense(10, activation='relu', kernel_initializer='normal'),\n",
    "            tf.keras.layers.Dense(1,  kernel_initializer='normal'),\n",
    "            tf.keras.layers.Dense(13, activation='softmax')])\n",
    "            \n",
    "model.compile(optimizer='adam',loss='sparse_categorical_crossentropy',metrics=['accuracy']) "
   ]
  },
  {
   "cell_type": "markdown",
   "id": "b38f65bd",
   "metadata": {},
   "source": [
    "# Fit the model with the preprocessed data"
   ]
  },
  {
   "cell_type": "code",
   "execution_count": null,
   "id": "c22c415b",
   "metadata": {},
   "outputs": [
    {
     "name": "stdout",
     "output_type": "stream",
     "text": [
      "Epoch 1/10\n",
      "2503155/2503155 [==============================] - 6738s 3ms/step - loss: nan - accuracy: 0.0818\n",
      "Epoch 2/10\n",
      "2503155/2503155 [==============================] - 6755s 3ms/step - loss: nan - accuracy: 0.0818\n",
      "Epoch 3/10\n",
      "1224407/2503155 [=============>................] - ETA: 4:02:06 - loss: nan - accuracy: 0.0818"
     ]
    }
   ],
   "source": [
    "bs = 16\n",
    "\n",
    "model.fit(x_train, y_train, epochs=10,batch_size=bs,steps_per_epoch=int(len(x_train)//bs))"
   ]
  },
  {
   "cell_type": "markdown",
   "id": "956d921f",
   "metadata": {},
   "source": [
    "# Evaluate the final model"
   ]
  },
  {
   "cell_type": "code",
   "execution_count": null,
   "id": "24da8980",
   "metadata": {},
   "outputs": [],
   "source": [
    "loss, accuracy = model.evaluate(x_test,  y_test, verbose=2)"
   ]
  }
 ],
 "metadata": {
  "kernelspec": {
   "display_name": "Python 3 (ipykernel)",
   "language": "python",
   "name": "python3"
  },
  "language_info": {
   "codemirror_mode": {
    "name": "ipython",
    "version": 3
   },
   "file_extension": ".py",
   "mimetype": "text/x-python",
   "name": "python",
   "nbconvert_exporter": "python",
   "pygments_lexer": "ipython3",
   "version": "3.9.1"
  }
 },
 "nbformat": 4,
 "nbformat_minor": 5
}
